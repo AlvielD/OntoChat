{
 "cells": [
  {
   "cell_type": "code",
   "execution_count": 1,
   "metadata": {},
   "outputs": [],
   "source": [
    "%load_ext autoreload\n",
    "%autoreload 2"
   ]
  },
  {
   "cell_type": "code",
   "execution_count": 2,
   "metadata": {},
   "outputs": [],
   "source": []
  },
  {
   "cell_type": "code",
   "execution_count": 4,
   "metadata": {},
   "outputs": [],
   "source": [
    "from utils import read_key\n",
    "\n",
    "API_KEY = read_key(\"key.txt\")\n",
    "# API_KEY = \"\"  # or paste it here"
   ]
  },
  {
   "cell_type": "markdown",
   "metadata": {},
   "source": [
    "# OntoChat API tutorial"
   ]
  },
  {
   "cell_type": "markdown",
   "metadata": {},
   "source": [
    "## Story creation"
   ]
  },
  {
   "cell_type": "code",
   "execution_count": null,
   "metadata": {},
   "outputs": [],
   "source": []
  },
  {
   "cell_type": "markdown",
   "metadata": {},
   "source": [
    "## CQ extraction"
   ]
  },
  {
   "cell_type": "code",
   "execution_count": null,
   "metadata": {},
   "outputs": [],
   "source": []
  },
  {
   "cell_type": "markdown",
   "metadata": {},
   "source": [
    "## CQ analysis"
   ]
  },
  {
   "cell_type": "code",
   "execution_count": null,
   "metadata": {},
   "outputs": [],
   "source": []
  },
  {
   "cell_type": "markdown",
   "metadata": {},
   "source": [
    "## Ontology pre-testing"
   ]
  },
  {
   "cell_type": "code",
   "execution_count": 3,
   "metadata": {},
   "outputs": [],
   "source": [
    "from ontolib import ChatInterface\n",
    "\n",
    "interface = ChatInterface(api_key=API_KEY)"
   ]
  },
  {
   "cell_type": "code",
   "execution_count": 4,
   "metadata": {},
   "outputs": [],
   "source": [
    "from verbaliser import verbalise_ontology\n",
    "\n",
    "ontology_path = \"../../idea/data/samples/musicmeta.owl\"\n",
    "\n",
    "onto_about = \"music metadata\"\n",
    "onto_desc  = \"The ontology is supposed to describe music metadata  related to \"\\\n",
    "             \"artists, compositions, performances, and recordings.\""
   ]
  },
  {
   "cell_type": "code",
   "execution_count": 5,
   "metadata": {},
   "outputs": [],
   "source": [
    "verb = verbalise_ontology(ontology_path, onto_about, onto_desc)"
   ]
  },
  {
   "cell_type": "code",
   "execution_count": 6,
   "metadata": {},
   "outputs": [
    {
     "name": "stdout",
     "output_type": "stream",
     "text": [
      "Ontology description: music metadata. The ontology is supposed to describe music metadata  related to artists, compositions, performances, and recordings.\n",
      "The main classes of the ontology are listed below:\n",
      "- Abstract Score: An abstract concept that allows to refer to the actual musical content of a MusicEntity. This makes it possible to describe musical properties that imply the existence of a hypothetical score, which may not be necessarily, or formally, materialised by the creators of the musical entity.\n",
      "- Annotation Method: An annotation method refers to the nature of the procedure used for producing annotation on an artifact.\n",
      "- Award: An award is intended as a recognition for a creative outcome, or more generally, for an activity carried out over a period of time. Typically, an award is given by an organisation and follows a recurring event.\n",
      "- Broadcaster (subconcept of Agent): A class representing an entity or organization involved in broadcasting or transmitting audio or video content, including music.\n",
      "- Broadcasting Situation (subconcept of Situation): Represents a specific situation or context related to broadcasting activities. It encompasses various scenarios, conditions, or events that may impact the broadcast of music or other content. It can include properties such as location, time, and specific conditions.\n",
      "- Collection: A curated or organized grouping of musical works or related entities. It encompasses a cohesive set of musical compositions, recordings, scores, or other music-related items that are brought together based on a specific theme, genre, artist, or any other organizing principle.\n",
      "- Collection Concept: An abstract or conceptual grouping of musical works or related entities. It encompasses a conceptual framework or idea that serves as the basis for organizing and categorizing musical compositions, recordings, scores, or other music-related items.\n",
      "- Composition Part: A distinct section or segment of a musical composition. It encompasses the individual components or sections that make up a larger musical work, such as movements, sections, verses, choruses, or any other identifiable divisions within the composition.\n",
      "- Creative Action: An action or process involving creativity, imagination, and artistic expression. It encompasses activities related to the creation, production, or development of artistic works, including music. It can include properties such as creator, medium, and result.\n",
      "- Creative Process: Describes a series of actions, steps, or stages involved in the creative development or production of artistic works, including music. It encompasses the process of generating ideas, exploring concepts, refining techniques, and producing the final creative output. It can include properties such as participants, duration, and output.\n",
      "- Creative Task (subconcept of Task): A task or assignment involving creative activities in the context of music. It encompasses various activities that require artistic expression, innovation, and imagination to create or develop musical works, performances, compositions, or other creative endeavors.\n",
      "- Dedication Statement: A statement or expression of dedication, typically found in music albums, books, or other creative works. It is a declaration of gratitude, acknowledgment, or special recognition towards individuals, groups, or causes. It can include properties such as text, creator, and recipient.\n",
      "- DigitalScore (subconcept of Score): A digital or electronic version of a musical score. It encompasses the digital representation of musical notation, allowing for electronic distribution, display, and manipulation of the score.\n",
      "- Form Type: The type or structure of a musical composition. It encompasses the various standardized or recognized forms and structures that compositions can adopt, providing a framework for understanding and categorizing musical works based on their organizational patterns.\n",
      "- Instrumentation: The arrangement or combination of musical instruments used in a composition, performance, or recording. It describes the specific instruments, their roles, and how they interact to create the overall sound and texture of the music. It can include properties such as instruments used, roles, and techniques.\n",
      "- Key: The tonal center or tonic pitch of a musical composition. It denotes the specific pitch or note around which the composition revolves and provides a framework for harmonic and melodic relationships within the piece. It can include properties such as tonic pitch, mode, and related scales.\n",
      "- Libretto (subconcept of Text): The written text or script of an opera, oratorio, or other dramatic musical work. The libretto serves as the literary foundation for the performance, providing the dialogue, lyrics, and stage directions that guide the singers, actors, and production team.\n",
      "- License: The legal agreement or permission governing the usage and distribution of a musical work or its associated components. It encompasses the terms and conditions under which the music is licensed, including the rights granted, restrictions imposed, and obligations of the licensee.\n",
      "- Live Performance (subconcept of Musical Performance): A musical performance that takes place in real-time and is witnessed by an audience. It encompasses the act of performing music in a live setting, such as a concert, recital, or music festival, where the performers and audience interact directly.\n",
      "- Lyrics (subconcept of Text): The textual component of a musical composition that consists of the words, verses, or poetic expressions sung or spoken during the performance. Lyrics provide the vocal content and convey the narrative, emotions, or messages expressed through the music. They encompass the written representation of the lyrical content, which may be organized into lines, stanzas, or verses, forming an integral part of the composition.\n",
      "- Medium of Performance: The specific ensemble, group, or combination of instruments or voices used in a musical performance or recording. It describes the medium through which the musical composition is interpreted and brought to life.\n",
      "- Mode: A specific musical mode, which is a set of pitch relationships and tonal characteristics that define a particular scale and tonal center. It describes the arrangement of intervals and patterns of pitches used in a musical composition or performance.\n",
      "- Movement (subconcept of Composition Part): A self-contained section within a larger musical composition, typically found in multi-movement works such as symphonies, sonatas, or concertos. It encompasses a distinct and coherent portion of the composition that is characterized by its own unique musical ideas, structure, and expression.\n",
      "- Music Algorithm (subconcept of Music Artist): An algorithm or computational process used in the creation, analysis, or manipulation of music. It encompasses algorithms designed to generate musical compositions, analyze musical patterns, apply effects or transformations to audio, or perform other computational tasks related to music.\n",
      "- Music Annotation Time Interval: A specific interval or duration within a musical composition that is annotated or marked with additional information.\n",
      "- Music Artist: An individual or group involved in creating, performing, or producing music. It encompasses musicians, singers, bands, composers, conductors, producers, and other artistic entities within the music industry.\n",
      "- Music Ensamble Membership: The membership of a musician in a music ensemble. It captures the association between a musician and a specific ensemble, indicating that the musician is a member of the ensemble.\n",
      "- Music Ensenble (subconcept of Music Artist): A group or collective of musicians who perform together as an ensemble. It encompasses various types of musical groups, such as orchestras, bands, choirs, chamber ensembles, and jazz ensembles.\n",
      "- Music Entity (subconcept of InformationObject): This class represents an Information Object, which is defined as the sum of all the elements that make up a piece of music. A music entity abstract a musical work, as it may results from a composition process, an improvisation, or be the result of non-written transmission.\n",
      "- Music Genre: A specific category or classification of music that shares common characteristics, styles, or cultural origins. It encompasses distinct musical traditions, styles, or movements that define a particular genre.\n",
      "- Music Sheet (subconcept of Score): A physical or printed document that contains the musical notation of a composition. It encompasses the sheet music, which provides a visual representation of the music, including notes, rhythms, lyrics, and other musical symbols.\n",
      "- Musical Performance (subconcept of InformationRealization, Creative Process): A live or recorded rendition of a musical composition. It encompasses the act of performing music, whether by musicians, singers, or other performers, to convey the intended artistic expression and interpretation of the composition.\n",
      "- Musician (subconcept of Music Artist, Person): An individual who is skilled in playing a musical instrument, singing, or composing music. It encompasses instrumentalists, vocalists, composers, conductors, and other individuals actively engaged in the creation, performance, or production of music.\n",
      "- Note\n",
      "- Opus Stantement: A statement or declaration related to a musical opus or composition. It is typically used to provide information about the creation, purpose, or significance of a specific musical work.\n",
      "- Publication Situation (subconcept of Situation): Descibes the situation or context in which a musical work or recording is published or made publicly available. A PublicationSituation encompasses various aspects related to the publication of music, including the timing, location, medium, format, and associated entities involved in the publication process.\n",
      "- Publisher (subconcept of Agent): An entity or organization responsible for publishing or distributing musical works, scores, recordings, or other music-related content. It encompasses companies, labels, or individuals that handle the production, promotion, and dissemination of music to the public.\n",
      "- Recording: A recorded performance or rendition of a musical composition. It refers to the capturing of sound, whether in a studio or live setting, for the purpose of creating a permanent audio representation of a musical performance.\n",
      "- Recording Equipment: The equipment and tools used in the process of recording music. It encompasses the various devices, instruments, and technologies employed to capture and produce high-quality audio recordings.\n",
      "- Recording Process (subconcept of Creative Process): The process of capturing and creating a recorded version of a musical performance or composition. It encompasses the various stages and techniques involved in recording, editing, mixing, and mastering the audio to produce a finalized recording.\n",
      "- Release: The distribution and availability of a recorded musical work to the public. It encompasses the act of officially making a recorded music product, such as an album or single, available for purchase, streaming, or other forms of consumption.\n",
      "- Score: A written, printed or digital document that contains the musical notation of a composition. It encompasses the musical score, which serves as a visual representation of the music, including the arrangement of notes, rhythms, dynamics, and other musical symbols.\n",
      "- Score Part: A specific part or section within a musical score. It refers to a distinct musical line or voice within a composition that is intended to be performed by a particular instrument or group of instruments.\n",
      "- Section (subconcept of Composition Part): A distinct and identifiable segment within a musical composition. It encompasses smaller divisions within a composition that contribute to its overall structure, such as verses, choruses, bridges, or any other delineated portions of the music.\n",
      "- Studio Performance (subconcept of Musical Performance): A musical performance that takes place in a recording studio or controlled environment specifically designed for audio recording. It encompasses the act of performing music with the purpose of capturing high-quality audio for later production, mixing, and mastering.\n",
      "- Text: A written or textual component of a musical composition. It encompasses the textual elements, such as lyrics or libretto, that accompany or form part of a musical work.\n",
      "- Text Fragment: A fragment or excerpt of text within a larger textual component of a musical composition. It encapsulates a specific portion of the lyrics, libretto, or other textual elements associated with the music. A TextFragment provides a smaller unit of textual content that can be individually referenced or analyzed within the context of the composition.\n",
      "\n",
      "The main named entities (individuals) are listed below:\n",
      "- hasSource The domain of this relation can be: Text. The range of this relation can be: Text.\n",
      "- isDerivedFrom The domain of this relation can be: Music Entity. The range of this relation can be: Music Entity.\n",
      "- Creates: Represents the relationship between a CreativeProcess and the MusicEntity that is produced or brought into existence as a result of the process. It indicates that the CreativeProcess is responsible for generating, composing, producing, or otherwise creating the mentioned MusicEntity. The domain of this relation can be: Creative Process. The range of this relation can be: Music Entity.\n",
      "- Has broadcaster: Specifies that a BroadcastingSituation involves a specific Broadcaster. This property represents the relationship between a broadcasting situation and the entity responsible for the broadcasting. It indicates that the mentioned BroadcastingSituation is associated with the mentioned Broadcaster, who is responsible for transmitting or airing the content. The domain of this relation can be: Broadcasting Situation. The range of this relation can be: Broadcaster.\n",
      "- Has collaborated with: Specifies that a MusicArtist has collaborated with another MusicArtist. This property represents the relationship between two MusicArtists who have worked together on a musical project or performance. It indicates that the MusicArtist has engaged in a collaborative effort with the mentioned MusicArtist, indicating a shared creative endeavor, joint performance, or joint contribution to a musical work. The domain of this relation can be: Music Artist. The range of this relation can be: Music Artist.\n",
      "- Has composition part (subproperty of hasPart): Represents the relationship between an AbstractScore and its constituent CompositionParts, such as Movements or Sections. It signifies that the AbstractScore includes or comprises the mentioned CompositionPart, which can be a distinct musical section, movement, or other structural elements within the composition. The domain of this relation can be: Abstract Score. The range of this relation can be: Composition Part.\n",
      "- Has dedication statement The domain of this relation can be: Music Entity. The range of this relation can be: Dedication Statement.\n",
      "- Has equipment: Specifies that a RecordingProcess involves a specific RecordingEquipment. This property represents the relationship between a RecordingProcess and the equipment used in the recording process. It indicates that the mentioned RecordingProcess utilizes the mentioned RecordingEquipment for capturing or producing the recorded content. The domain of this relation can be: Recording Process. The range of this relation can be: Recording Equipment.\n",
      "- Has form type: Indicates that an AbstractScore has a specific FormType associated with it. This property represents the relationship between an AbstractScore and its designated FormType, which categorizes the overall structure or musical form of the composition. It signifies that the AbstractScore conforms to the mentioned FormType, which could include classifications such as Sonata, Symphony, Concerto, or other recognized musical forms. The domain of this relation can be: Abstract Score. The range of this relation can be: Form Type.\n",
      "- hasGenre: pecifies the genre or genres associated with a MusicArtist. This property represents the relationship between a MusicArtist and the MusicGenre(s) that are attributed or associated with their artistic output or musical style. It indicates the genre(s) that best describe the musical genre(s) or genres in which the MusicArtist operates or specializes. The domain of this relation can be: Music Artist. The range of this relation can be: Music Genre.\n",
      "- Has instrumentation: Specifies that an AbstractScore has an Instrumentation associated with it. This property represents the relationship between an AbstractScore and its corresponding Instrumentation. It indicates that the AbstractScore is intended to be performed by the instruments or voices specified in the Instrumentation. The domain of this relation can be: Abstract Score. The range of this relation can be: Instrumentation.\n",
      "- Has key: Specifies that an AbstractScore is composed or written in a particular Key. This property represents the relationship between an AbstractScore and the Key in which it is intended to be performed or understood. It indicates that the AbstractScore is structured or based on the mentioned Key, which defines the tonal center, pitch relationships, and overall harmonic framework of the musical composition. The domain of this relation can be: Abstract Score. The range of this relation can be: Key.\n",
      "- Has license: Specifies that a Recording, Release, or Score is associated with a specific License. This property represents the relationship between a musical recording, a release of music, or a musical score, and the license that governs its usage and distribution. It indicates that the mentioned Recording, Release, or Score is subject to the terms and conditions defined by the mentioned License. The domain of this relation can be: Recording, or Release, or Score. The range of this relation can be: License.\n",
      "- Has medium: Specifies that a ScorePart is performed using a specific MediumOfPerformance. This property represents the relationship between a ScorePart and the medium or instrument through which it is intended to be performed. It indicates that the ScorePart is designed or written for the mentioned MediumOfPerformance, which could include instruments, voices, or other performance mediums. The domain of this relation can be: Score Part. The range of this relation can be: Medium of Performance.\n",
      "- Has mode\n",
      "- Has music entity part (subproperty of hasPart): Specifies the relationship between a MusicEntity and its constituent parts or components. This property represents the connection between a MusicEntity and the individual parts or components that comprise it. It indicates that the MusicEntity is composed of or includes the mentioned parts, which may consist of specific sections, movements, instrumental or vocal parts, or other structural elements that contribute to the overall composition. The domain of this relation can be: Music Entity. The range of this relation can be: Abstract Score, or Instrumentation, or Music Entity, or Text.\n",
      "- Has opus statement: Specifies that a MusicEntity has an OpusStatement associated with it. This property represents the relationship between a MusicEntity and its corresponding OpusStatement. It indicates that the MusicEntity is identified or labeled with a specific OpusStatement, which typically includes information such as the opus number, title, composer, and other relevant details related to the work's cataloging or classification. The domain of this relation can be: Music Entity. The range of this relation can be: Opus Stantement.\n",
      "- Publication situation: Specifies that a Score or Recording is associated with a specific PublicationSituation. This property represents the relationship between a musical score or recording and the situation or context in which it is published or made publicly available. It indicates that the mentioned Score or Recording is subject to the conditions and circumstances defined by the mentioned PublicationSituation. The domain of this relation can be: Release, or Score. The range of this relation can be: Publication Situation.\n",
      "- Has publisher: Specifies that a PublicationSituation involves a specific Publisher. This property represents the relationship between a publication situation and the entity or organization responsible for publishing the content. It indicates that the mentioned PublicationSituation is associated with the mentioned Publisher, who is responsible for releasing or making the content available to the public. The domain of this relation can be: Publication Situation. The range of this relation can be: Publisher.\n",
      "- Has recording The domain of this relation can be: Music Entity. The range of this relation can be: Recording.\n",
      "- Has score: Indicates that an Instrumentation is associated with a Score. This property represents the relationship between an Instrumentation and the Score that represents its musical notation. It signifies that the Instrumentation is accompanied by the mentioned Score, which provides the written or printed representation of the musical arrangement for the instruments or voices involved. The domain of this relation can be: Instrumentation. The range of this relation can be: Score.\n",
      "- Has score part (subproperty of hasPart): Specifies that a Score includes a specific ScorePart. This property represents the relationship between a Score and its constituent ScoreParts, which are individual sections or components of the overall musical notation. It indicates that the Score comprises the mentioned ScorePart, which can represent a particular instrument's part, vocal line, or other segmented elements within the musical composition. The domain of this relation can be: Score. The range of this relation can be: Score Part.\n",
      "- Has source The domain of this relation can be: Text. The range of this relation can be: Text.\n",
      "- Has text: Specifies that an AbstractScore has associated Text. This property represents the relationship between an AbstractScore and the Text associated with it. It indicates that the AbstractScore contains or includes the mentioned Text, which provides additional textual information, instructions, or annotations related to the score. The domain of this relation can be: Abstract Score. The range of this relation can be: Text.\n",
      "- Has text part (subproperty of hasPart): Specifies that a Text has a TextFragment associated with it. This property represents the relationship between a Text, such as lyrics or written text, and its corresponding TextFragment. It indicates that the Text contains or includes the mentioned TextFragment, which represents a portion or segment of the overall Text. The domain of this relation can be: Text. The range of this relation can be: Text Fragment.\n",
      "- Involves creative action (subproperty of involves): Specifies that a CreativeProcess involves a CreativeAction. This property represents the relationship between a CreativeProcess and the CreativeAction that is part of or integral to the process. The domain of this relation can be: Creative Process. The range of this relation can be: Creative Action.\n",
      "- Involves member of music ensemble (subproperty of involvesAgent): Specifies the involvement of a MusicArtist as a member of a MusicEnsemble. This property represents the relationship between a MusicEnsembleMembership and the MusicArtist who is actively involved or participates as a member of the ensemble. The domain of this relation can be: Music Ensamble Membership. The range of this relation can be: Music Artist.\n",
      "- Involves music ensemble (subproperty of involvesAgent): Specifies the relationship between a MusicEnsembleMembership and a MusicEnsemble, indicating that the membership involves or includes the specified music ensemble. The domain of this relation can be: Music Ensamble Membership. The range of this relation can be: Music Ensenble.\n",
      "- Is broadcasted in: Specifies that a Recording is broadcasted in a specific BroadcastingSituation. This property represents the relationship between a recorded musical content and the broadcasting situation in which it is aired or transmitted. It indicates that the mentioned Recording is made available to the public through the mentioned BroadcastingSituation. The domain of this relation can be: Recording. The range of this relation can be: Broadcasting Situation.\n",
      "- Is broadcaster of: Inverse relationship of \"hasBroadcaster.\" It indicates that a Broadcaster is associated with a specific BroadcastingSituation. This property establishes the connection from the Broadcaster's perspective, indicating that they are responsible for broadcasting the content in the mentioned BroadcastingSituation. The domain of this relation can be: Broadcaster. The range of this relation can be: Broadcasting Situation.\n",
      "- Is composition part of (subproperty of isPartOf): Inverse relationship of \"hasCompositionPart.\" It indicates that a CompositionPart, such as a Movement or Section, is a component or part of a specific AbstractScore. This property establishes the connection from the CompositionPart's perspective, indicating its membership or inclusion within the larger AbstractScore. The domain of this relation can be: Composition Part. The range of this relation can be: Abstract Score.\n",
      "- Is created by: Inverse relationship of \"creates.\" It indicates that a MusicEntity is created by a specific CreativeProcess. This property establishes the connection from the MusicEntity's perspective, indicating the creative process that is responsible for the entity's generation, composition, production, or creation. The domain of this relation can be: Music Entity. The range of this relation can be: Creative Process.\n",
      "- is dedicated to: Specifies that a DedicationStatement is dedicated to a specific Person. This property represents the relationship between a DedicationStatement, typically found in musical works, and the person or entity to whom the dedication is addressed. It indicates that the DedicationStatement is intended as a tribute or honor to the mentioned Person. The domain of this relation can be: Dedication Statement. The range of this relation can be: Person.\n",
      "- Is equipment of: Inverse relationship of \"hasEquipment.\" It indicates that a RecordingEquipment is associated with a specific RecordingProcess. This property establishes the connection from the RecordingEquipment's perspective, indicating that it is the equipment used in the mentioned RecordingProcess. The domain of this relation can be: Recording Equipment. The range of this relation can be: Recording Process.\n",
      "- Is form type of: Inverse relationship of \"hasFormType.\" It indicates that a FormType is associated with a specific AbstractScore. This property establishes the connection from the FormType's perspective, indicating that it characterizes the overall musical structure or form of the corresponding AbstractScore. The domain of this relation can be: Form Type. The range of this relation can be: Abstract Score.\n",
      "- Is formation place of: Inverse relationship of \"wasFormedIn.\" Establishes the connection from the place's perspective, highlighting its significance as the location where the ensemble was formed or established. It provides information about the historical and geographical association between the place and the formation of music ensembles, emphasizing the role of the place in shaping the ensemble's origin and identity. The domain of this relation can be: Place. The range of this relation can be: Music Ensenble.\n",
      "- Is genre of: Inverse relationship of \"hasGenre.\" It specifies that a MusicGenre is attributed or associated with a MusicArtist. The domain of this relation can be: Music Genre. The range of this relation can be: Music Artist.\n",
      "- Is influenced by: Specifies that a MusicArtist is influenced by another MusicArtist. This property represents the relationship between a MusicArtist and the MusicArtist(s) who have had a significant impact on their artistic development or musical style. It indicates that the MusicArtist has been influenced by the ideas, techniques, or musical expressions of the mentioned MusicArtist(s), which have played a role in shaping their own musical approach or creative output. The domain of this relation can be: Music Artist. The range of this relation can be: Music Artist.\n",
      "- Is instrumentation of: Inverse relationship of \"hasInstrumentation.\" It indicates that an Instrumentation is associated with a specific AbstractScore. This property establishes the connection from the Instrumentation's perspective, indicating that it is the specified instrumentation or vocal arrangement intended for the corresponding AbstractScore. The domain of this relation can be: Instrumentation. The range of this relation can be: Abstract Score.\n",
      "- Is involved in creative process (subproperty of isInvolvedIn): Inverse relationship of \"involvesCreativeAction.\" It indicates that a CreativeAction is involved in a specific CreativeProcess. This property establishes the connection from the CreativeAction's perspective, indicating its active involvement or participation within the context of the CreativeProcess.\n",
      "- Is key of: Inverse relationship of \"hasKey.\" It indicates that a Key is associated with a specific AbstractScore. This property establishes the connection from the Key's perspective, indicating that it is the key signature or tonal center assigned to the corresponding AbstractScore. The domain of this relation can be: Key. The range of this relation can be: Abstract Score.\n",
      "- Is license of: Inverse relationship of \"hasLicense.\" It indicates that a License is associated with a specific Recording, Release, or Score. This property establishes the connection from the License's perspective, indicating that it governs the usage and distribution of the mentioned Recording, Release, or Score. The domain of this relation can be: License. The range of this relation can be: Recording, or Score, or Release.\n",
      "- Is medium of: nverse relationship of \"hasMedium.\" It indicates that a MediumOfPerformance is associated with a specific ScorePart. This property establishes the connection from the MediumOfPerformance's perspective, indicating that it is the performance medium or instrument for which the mentioned ScorePart is intended. The domain of this relation can be: Medium of Performance. The range of this relation can be: Score Part.\n",
      "- Is opus statement of: Inverse relationship of \"hasOpusStatement.\" It indicates that an OpusStatement is associated with a specific MusicEntity. This property establishes the connection from the OpusStatement's perspective, indicating that it is the statement or label attributed to a particular MusicEntity. The inverse property \"isOpusStatementOf\" allows for the modeling and description of the relationship between OpusStatements and the MusicEntities they pertain to, providing a means to identify and associate OpusStatements with their corresponding musical works. The domain of this relation can be: Opus Stantement. The range of this relation can be: Music Entity.\n",
      "- Is part of music entity (subproperty of isPartOf): Inverse relationship of \"hasMusicEntityPart.\" It indicates that a MusicEntity part or component is part of a specific MusicEntity. This property establishes the connection from the MusicEntity part's perspective, indicating its inclusion or membership within the larger MusicEntity. The inverse property \"isPartOfMusicEntity\" allows for the modeling and description of the hierarchical or structural relationships between MusicEntity parts and the MusicEntities they belong to. The domain of this relation can be: Abstract Score, or Music Entity, or Text, or Instrumentation. The range of this relation can be: Music Entity.\n",
      "- Is part of release (subproperty of isPartOf): Specifies that a Recording is part of a specific Release. This property represents the relationship between a recorded musical content and the larger release or collection in which it is included. It indicates that the mentioned Recording is a component or part of the mentioned Release. The domain of this relation can be: Recording. The range of this relation can be: Release.\n",
      "- Is produced by recording process (subproperty of isRealizedBy): Inverse relationship of \"producesRecording.\" It indicates that a Recording is produced by a specific RecordingProcess. This property establishes the connection from the Recording's perspective, indicating that it is the result or output of the mentioned RecordingProcess. The domain of this relation can be: Recording. The range of this relation can be: Recording Process.\n",
      "- Is publication situation of: Inverse relationship of \"hasPublicationSituation.\" It indicates that a PublicationSituation is associated with a specific Score or Recording. This property establishes the connection from the PublicationSituation's perspective, indicating that it defines the conditions and circumstances under which the mentioned Score or Recording is published or made publicly available. The domain of this relation can be: Publication Situation. The range of this relation can be: Recording, or Score.\n",
      "- Is publisher of: Iverse relationship of \"hasPublisher.\" It indicates that a Publisher is associated with a specific PublicationSituation. This property establishes the connection from the Publisher's perspective, indicating that they are responsible for publishing the content in the mentioned PublicationSituation. The domain of this relation can be: Publisher. The range of this relation can be: Publication Situation.\n",
      "- Is realisation of: Iverse relationship of \"isRealisedBy.\" It indicates that a Score or ScorePart is a realisation or tangible representation of a specific AbstractScore or Instrumentation. This property establishes the connection from the Score or ScorePart's perspective, indicating that it materializes or embodies the musical content or instrumentation described in the corresponding AbstractScore or Instrumentation. The domain of this relation can be: Score, or Score Part. The range of this relation can be: Abstract Score, or Instrumentation.\n",
      "- Is realized by The domain of this relation can be: Music Entity. The range of this relation can be: Musical Performance.\n",
      "- Is realised in: Represents the relationship between an AbstractScore or Instrumentation and the Score or ScorePart that brings it to life in a tangible or performable form. It signifies that the AbstractScore or Instrumentation is manifested or rendered into a concrete representation or performance through the mentioned Score or ScorePart. The domain of this relation can be: Abstract Score, or Instrumentation. The range of this relation can be: Score, or Score Part.\n",
      "- Is recorded by: Specifies that a MusicEntity or MusicalPerformance is recorded through a RecordingProcess. This property represents the relationship between a MusicEntity or MusicalPerformance and the process of recording it, typically involving capturing the audio or video performance in a recorded format. The domain of this relation can be: Music Entity, or Musical Performance. The range of this relation can be: Recording Process.\n",
      "- Is recording process of: Inverse relationship of \"isRecordedBy.\" It indicates that a RecordingProcess is associated with a specific MusicEntity or MusicalPerformance. This property establishes the connection from the RecordingProcess's perspective, indicating that it is the process responsible for capturing or documenting the mentioned MusicEntity or MusicalPerformance. The domain of this relation can be: Recording Process. The range of this relation can be: Music Entity, or Musical Performance.\n",
      "- Is score of: Inverse relationship of \"hasScore.\" It indicates that a Score is associated with a specific Instrumentation. This property establishes the connection from the Score's perspective, indicating that it serves as the musical notation for the mentioned Instrumentation. The domain of this relation can be: Score. The range of this relation can be: Instrumentation.\n",
      "- Is score part of (subproperty of isPartOf): Inverse relationship of \"hasScorePart.\" It indicates that a ScorePart is a component or part of a specific Score. This property establishes the connection from the ScorePart's perspective, indicating its membership or inclusion within the larger Score. The domain of this relation can be: Score Part. The range of this relation can be: Score.\n",
      "- Is text fragment of (subproperty of isPartOf): Inverse relationship of \"hasTextFragment.\" It indicates that a TextFragment is associated with a specific Text. This property establishes the connection from the TextFragment's perspective, indicating that it is a fragment or segment of the larger Text. The domain of this relation can be: Text Fragment. The range of this relation can be: Text.\n",
      "- Is text of: Inverse relationship of \"hasText.\" It indicates that a Text is associated with a specific AbstractScore. This property establishes the connection from the Text's perspective, indicating that it is the textual content or annotations specifically intended for the corresponding AbstractScore. The domain of this relation can be: Text. The range of this relation can be: Abstract Score.\n",
      "- Is trained on: Specifies that a MusicAlgorithm has been trained on a specific MusicDataset. This property indicates the relationship between a MusicAlgorithm and the dataset it was trained on, highlighting the input data used to train and develop the algorithm's functionality and knowledge in the field of music. The domain of this relation can be: Music Algorithm. The range of this relation can be: MusicDataset.\n",
      "- Is training of: Inverse relationship of \"isTrainedOn.\" It indicates that a specific MusicDataset is used as training data for a MusicAlgorithm. The inverse property establishes the connection from the dataset's perspective, highlighting its role in training and contributing to the development of the algorithm's functionality and knowledge in the field of music. The domain of this relation can be: MusicDataset. The range of this relation can be: Music Algorithm.\n",
      "- Nominated for award: Represents the relationship between a MusicArtist and the Award for which they have received a nomination. It indicates that the MusicArtist has been recognized or considered for the Award, highlighting their achievement or recognition in the music industry. The domain of this relation can be: Music Artist. The range of this relation can be: Award.\n",
      "- Produces recording: pecifies that a RecordingProcess produces a specific Recording. This property represents the relationship between a RecordingProcess and the resulting recorded output. It indicates that the mentioned RecordingProcess is responsible for the creation or production of the mentioned Recording. The domain of this relation can be: Recording Process. The range of this relation can be: Recording.\n",
      "- Received award: Specifies that a MusicArtist has received a specific Award. It indicates that the MusicArtist has been honored or recognized with the mentioned Award, highlighting their achievement or excellence in the music industry. The domain of this relation can be: Music Artist. The range of this relation can be: Award.\n",
      "- Was formed in: Specifies the relationship between a MusicEnsemble and a Place, indicating that the ensemble was formed or established in a particular location. This property highlights the geographical origin or location where the ensemble came into existence or was initially established, providing information about its place of formation. The domain of this relation can be: Music Ensenble. The range of this relation can be: Place.\n",
      "\n",
      "The main relations of the ontology are listed below:\n",
      "- Instrumentation is an instance of class Creative Task.\n",
      "- Lyrics writing is an instance of class Creative Task.\n",
      "- Music Writing is an instance of class Creative Task.\n",
      "- Orchestration is an instance of class Creative Task.\n",
      "\n"
     ]
    }
   ],
   "source": [
    "print(verb)"
   ]
  },
  {
   "cell_type": "code",
   "execution_count": null,
   "metadata": {},
   "outputs": [],
   "source": []
  },
  {
   "cell_type": "markdown",
   "metadata": {},
   "source": [
    "### Onto2CQ and CQ-pretest"
   ]
  },
  {
   "cell_type": "code",
   "execution_count": null,
   "metadata": {},
   "outputs": [],
   "source": [
    "from ontolib import extract_competency_questions, test_competency_questions\n",
    "\n",
    "extracted_cqs = extract_competency_questions(\n",
    "    onto_verbalisation=verb,\n",
    "    chat_interface=interface)"
   ]
  },
  {
   "cell_type": "code",
   "execution_count": 10,
   "metadata": {},
   "outputs": [],
   "source": [
    "# print(extracted_cqs)"
   ]
  },
  {
   "cell_type": "code",
   "execution_count": 13,
   "metadata": {},
   "outputs": [],
   "source": [
    "cq_list = [\n",
    "    \"Who are the parents of a music artist?\",\n",
    "    \"Where did a music artist study?\",\n",
    "    \"What is the genre of a music entity?\",\n",
    "    \"Who are the authors of a music entity?\"]\n",
    "\n",
    "cq_dict = test_competency_questions(verb, cq_list, chat_interface=interface)"
   ]
  },
  {
   "cell_type": "code",
   "execution_count": 14,
   "metadata": {},
   "outputs": [
    {
     "data": {
      "text/plain": [
       "{'Who are the parents of a music artist?': 'No',\n",
       " 'Where did a music artist study?': 'No',\n",
       " 'What is the genre of a music entity?': 'Yes',\n",
       " 'Who are the authors of a music entity?': 'Yes'}"
      ]
     },
     "execution_count": 14,
     "metadata": {},
     "output_type": "execute_result"
    }
   ],
   "source": [
    "cq_dict"
   ]
  },
  {
   "cell_type": "code",
   "execution_count": null,
   "metadata": {},
   "outputs": [],
   "source": []
  }
 ],
 "metadata": {
  "kernelspec": {
   "display_name": "choco",
   "language": "python",
   "name": "python3"
  },
  "language_info": {
   "codemirror_mode": {
    "name": "ipython",
    "version": 3
   },
   "file_extension": ".py",
   "mimetype": "text/x-python",
   "name": "python",
   "nbconvert_exporter": "python",
   "pygments_lexer": "ipython3",
   "version": "3.11.4"
  }
 },
 "nbformat": 4,
 "nbformat_minor": 2
}
